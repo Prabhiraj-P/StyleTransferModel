{
 "cells": [
  {
   "cell_type": "code",
   "execution_count": 223,
   "metadata": {},
   "outputs": [],
   "source": [
    "import matplotlib.pyplot as plt\n",
    "import seaborn as sns\n",
    "import torch\n",
    "import torch.nn as nn\n",
    "from torchvision import transforms\n",
    "import random\n",
    "import os\n",
    "from PIL import Image\n",
    "import torchvision.transforms.functional as F"
   ]
  },
  {
   "cell_type": "markdown",
   "metadata": {},
   "source": [
    "# Model"
   ]
  },
  {
   "cell_type": "code",
   "execution_count": 203,
   "metadata": {},
   "outputs": [],
   "source": [
    "class ResidualBlock(nn.Module):\n",
    "    def __init__(self, in_channels, out_channels, kernel_size=3, stride=1, padding=1):\n",
    "        super(ResidualBlock, self).__init__()\n",
    "\n",
    "        self.conv1 = nn.Conv2d(in_channels, out_channels, kernel_size, stride, padding)\n",
    "        self.norm1 = nn.InstanceNorm2d(out_channels)\n",
    "        self.relu = nn.ReLU(inplace=True)\n",
    "\n",
    "        self.conv2 = nn.Conv2d(out_channels, out_channels, kernel_size, stride, padding)\n",
    "        self.norm2 = nn.InstanceNorm2d(out_channels)\n",
    "\n",
    "    def forward(self, x):\n",
    "        residual = x\n",
    "        out = self.conv1(x)\n",
    "        out = self.norm1(out)\n",
    "        out = self.relu(out)\n",
    "\n",
    "        out = self.conv2(out)\n",
    "        out = self.norm2(out)\n",
    "        out = self.relu(out)\n",
    "\n",
    "        #out += residual  # Add the residual\n",
    "        return out\n",
    "\n",
    "        # \"residual_blocks.conv1.weight\", \"residual_blocks.conv1.bias\", \"residual_blocks.conv2.weight\", \"residual_blocks.conv2.bias\""
   ]
  },
  {
   "cell_type": "code",
   "execution_count": 204,
   "metadata": {},
   "outputs": [],
   "source": [
    "class AdvancedStyleTransferModel(nn.Module):\n",
    "    def __init__(self):\n",
    "        super(AdvancedStyleTransferModel, self).__init__()\n",
    "\n",
    "        # Initial convolution input image size=3x64x64\n",
    "        self.conv1 = nn.Conv2d(3, 32, kernel_size=4, stride=1, padding=2)  # 32x64x64\n",
    "        self.relu1 = nn.ReLU()\n",
    "\n",
    "        self.conv2 = nn.Conv2d(32, 128, kernel_size=2, stride=1, padding=1)  # 128x32x32\n",
    "        self.relu2 = nn.ReLU()\n",
    "    \n",
    "\n",
    "        self.conv_transpose1 = nn.ConvTranspose2d(128, 32, kernel_size=2, stride=1, padding=1)  # 32x64x64\n",
    "        self.relu3 = nn.ReLU()\n",
    "\n",
    "        self.conv_transpose2 = nn.ConvTranspose2d(32, 3, kernel_size=4, stride=1, padding=2)\n",
    "        self.relu4 = nn.ReLU()\n",
    "        \n",
    "        # Residual blocks\n",
    "        self.residual_blocks = ResidualBlock(32, 32)\n",
    "                                        \n",
    "        \n",
    "        \n",
    "\n",
    "    def forward(self, x):\n",
    "        resu = x\n",
    "        out = self.relu1(self.conv1(x))\n",
    "        #out = self.batch_norm1(out)\n",
    "        out = self.residual_blocks(out)\n",
    "        out = self.relu2(self.conv2(out))\n",
    "        #out = self.batch_norm2(out)\n",
    "        #out = self.residual_blocks(out)\n",
    "        out = self.relu3(self.conv_transpose1(out))\n",
    "        out = self.conv_transpose2(out)\n",
    "        #out = self.batch_norm2(out)\n",
    "        # out += resu\n",
    "        return out"
   ]
  },
  {
   "cell_type": "markdown",
   "metadata": {},
   "source": [
    "# Loading Model"
   ]
  },
  {
   "cell_type": "code",
   "execution_count": 205,
   "metadata": {},
   "outputs": [],
   "source": [
    "model_url=r'models\\model_final_train_loss_0.1172_val_loss_0.1181.pth'\n",
    "test_folder_path=r'dataset\\test'"
   ]
  },
  {
   "cell_type": "code",
   "execution_count": 229,
   "metadata": {},
   "outputs": [
    {
     "data": {
      "text/plain": [
       "<All keys matched successfully>"
      ]
     },
     "execution_count": 229,
     "metadata": {},
     "output_type": "execute_result"
    }
   ],
   "source": [
    "model_dict = torch.load(model_url, map_location=torch.device('cpu'))\n",
    "model = AdvancedStyleTransferModel()\n",
    "model.load_state_dict(model_dict)"
   ]
  },
  {
   "cell_type": "markdown",
   "metadata": {},
   "source": [
    "# Loading image"
   ]
  },
  {
   "cell_type": "code",
   "execution_count": 216,
   "metadata": {},
   "outputs": [],
   "source": [
    "mean = [0.485, 0.456, 0.406]  # RGB mean values\n",
    "std = [0.229, 0.224, 0.225]\n",
    "normalize=transforms.Normalize(\n",
    "    mean=mean, std=std\n",
    ")"
   ]
  },
  {
   "cell_type": "code",
   "execution_count": 217,
   "metadata": {},
   "outputs": [],
   "source": [
    "def de_norm(img):\n",
    "  denormalize = transforms.Normalize(mean=[-m/s for m, s in zip(mean, std)], std=[1/s for s in std])\n",
    "  return denormalize(img)"
   ]
  },
  {
   "cell_type": "code",
   "execution_count": 218,
   "metadata": {},
   "outputs": [],
   "source": [
    "transform_test=transforms.Compose([\n",
    "    transforms.Resize((256, 256)),\n",
    "    transforms.ToTensor(),\n",
    "    normalize\n",
    "])"
   ]
  },
  {
   "cell_type": "code",
   "execution_count": 1,
   "metadata": {},
   "outputs": [
    {
     "ename": "NameError",
     "evalue": "name 'random' is not defined",
     "output_type": "error",
     "traceback": [
      "\u001b[1;31m---------------------------------------------------------------------------\u001b[0m",
      "\u001b[1;31mNameError\u001b[0m                                 Traceback (most recent call last)",
      "Cell \u001b[1;32mIn[1], line 1\u001b[0m\n\u001b[1;32m----> 1\u001b[0m sample_image_name \u001b[38;5;241m=\u001b[39m\u001b[43mrandom\u001b[49m\u001b[38;5;241m.\u001b[39mchoice(os\u001b[38;5;241m.\u001b[39mlistdir(test_folder_path))\n\u001b[0;32m      2\u001b[0m image_url \u001b[38;5;241m=\u001b[39m os\u001b[38;5;241m.\u001b[39mpath\u001b[38;5;241m.\u001b[39mjoin(test_folder_path, sample_image_name)\n\u001b[0;32m      3\u001b[0m test_image\u001b[38;5;241m=\u001b[39mImage\u001b[38;5;241m.\u001b[39mopen(image_url)\u001b[38;5;241m.\u001b[39mconvert(\u001b[38;5;124m'\u001b[39m\u001b[38;5;124mRGB\u001b[39m\u001b[38;5;124m'\u001b[39m)\n",
      "\u001b[1;31mNameError\u001b[0m: name 'random' is not defined"
     ]
    }
   ],
   "source": [
    "sample_image_name =random.choice(os.listdir(test_folder_path))\n",
    "image_url = os.path.join(test_folder_path, sample_image_name)\n",
    "test_image=Image.open(image_url).convert('RGB')\n",
    "test_image=transform_test(test_image)\n",
    "output_image = model(test_image)\n",
    "test_image=de_norm(test_image)\n",
    "output_image=de_norm(output_image)\n",
    "\n",
    "\n",
    "fig, axes = plt.subplots(1, 2, figsize=(10, 5))\n",
    "test_input=F.to_pil_image(test_image.squeeze(0)).convert('RGB')\n",
    "test_output_img = transforms.ToPILImage()(output_image.squeeze(0).clamp(0, 1))\n",
    "\n",
    "\n",
    "axes[0].imshow(test_input)\n",
    "axes[0].axis('off')\n",
    "axes[0].set_title('Input Image')\n",
    "\n",
    "\n",
    "axes[1].imshow(test_output_img)\n",
    "axes[1].axis('off')\n",
    "axes[1].set_title('Model output Image')\n",
    "\n",
    "plt.show()\n"
   ]
  }
 ],
 "metadata": {
  "kernelspec": {
   "display_name": "envy",
   "language": "python",
   "name": "python3"
  },
  "language_info": {
   "codemirror_mode": {
    "name": "ipython",
    "version": 3
   },
   "file_extension": ".py",
   "mimetype": "text/x-python",
   "name": "python",
   "nbconvert_exporter": "python",
   "pygments_lexer": "ipython3",
   "version": "3.11.5"
  }
 },
 "nbformat": 4,
 "nbformat_minor": 2
}
